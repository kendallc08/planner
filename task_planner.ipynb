{
 "cells": [
  {
   "cell_type": "code",
   "execution_count": 2,
   "id": "81d08559-c6a1-40cb-a9ea-242f091b8a26",
   "metadata": {},
   "outputs": [
    {
     "name": "stdout",
     "output_type": "stream",
     "text": [
      "[]\n"
     ]
    }
   ],
   "source": [
    "import datetime as dt\n",
    "tasks = [] \n",
    "def add_task():\n",
    "    name = input(\"Task name: \")\n",
    "    priority = input(\"Priority (1 = high): \")\n",
    "    duration = input(\"Duration (minutes): \")\n",
    "    tasks.append({\"name\": name, \"priority\": priority, \"duration\": duration})\n",
    "print(tasks)\n",
    "\n",
    "def sort_tasks():\n",
    "    return sorted(tasks, key=lambda x: x[\"priority\"])\n",
    "\n",
    "\n",
    "def create_schedule():\n",
    "    print(\"\\nSchedule Starting From Now:\")\n",
    "    sorted_tasks = sort_tasks()\n",
    "    now = dt.datetime.now()\n",
    "    current_time = now\n",
    "    for task in sorted_tasks:\n",
    "        start_n = current_time.strftime(\"%I:%M %p\")\n",
    "        end_time = current_time + dt.timedelta(minutes=int(task[\"duration\"]))\n",
    "        end_n = end_time.strftime(\"%I:%M %p\")\n",
    "        print(f\"{start_n} - {end_n}: {task['name']} (Priority {task['priority']})\")\n",
    "        current_time = end_time\n"
   ]
  },
  {
   "cell_type": "code",
   "execution_count": 3,
   "id": "2d7d9141-5512-475f-9c0a-41b9cca94686",
   "metadata": {},
   "outputs": [
    {
     "name": "stdin",
     "output_type": "stream",
     "text": [
      "Task name:  gia\n",
      "Priority (1 = high):  2\n",
      "Duration (minutes):  60\n"
     ]
    }
   ],
   "source": [
    "add_task()\n",
    "\n"
   ]
  },
  {
   "cell_type": "code",
   "execution_count": 4,
   "id": "ca9c5a75-dfe0-4124-854a-3704e3b88fd6",
   "metadata": {},
   "outputs": [
    {
     "name": "stdin",
     "output_type": "stream",
     "text": [
      "Task name:  code\n",
      "Priority (1 = high):  1\n",
      "Duration (minutes):  30\n"
     ]
    }
   ],
   "source": [
    "\n",
    "\n",
    "add_task()\n"
   ]
  },
  {
   "cell_type": "code",
   "execution_count": 5,
   "id": "c5ce5395-989e-4c59-bb8f-91a1c8f30056",
   "metadata": {},
   "outputs": [
    {
     "name": "stdin",
     "output_type": "stream",
     "text": [
      "Task name:  clean\n",
      "Priority (1 = high):  3\n",
      "Duration (minutes):  45\n"
     ]
    }
   ],
   "source": [
    "add_task()\n"
   ]
  },
  {
   "cell_type": "code",
   "execution_count": 6,
   "id": "0b9e81a9-4938-497d-b2f1-b803002e5ec6",
   "metadata": {},
   "outputs": [
    {
     "name": "stdout",
     "output_type": "stream",
     "text": [
      "[{'name': 'gia', 'priority': '2', 'duration': '60'}, {'name': 'code', 'priority': '1', 'duration': '30'}, {'name': 'clean', 'priority': '3', 'duration': '45'}]\n"
     ]
    }
   ],
   "source": [
    "print(tasks)\n",
    "\n"
   ]
  },
  {
   "cell_type": "code",
   "execution_count": null,
   "id": "aad6c028-8e35-4651-8192-4b22f556b06d",
   "metadata": {},
   "outputs": [],
   "source": [
    "for task in sorted_tasks():\n",
    "    print(task)\n",
    "\n"
   ]
  },
  {
   "cell_type": "code",
   "execution_count": 7,
   "id": "c732080c-dca5-429c-84d3-0983d4c0cd43",
   "metadata": {},
   "outputs": [
    {
     "name": "stdout",
     "output_type": "stream",
     "text": [
      "\n",
      "Schedule Starting From Now:\n",
      "12:30 PM - 01:00 PM: code (Priority 1)\n",
      "01:00 PM - 02:00 PM: gia (Priority 2)\n",
      "02:00 PM - 02:45 PM: clean (Priority 3)\n"
     ]
    }
   ],
   "source": [
    "create_schedule()"
   ]
  },
  {
   "cell_type": "code",
   "execution_count": null,
   "id": "dbaef34b-d28f-46e8-a30a-4a44b24f267a",
   "metadata": {},
   "outputs": [],
   "source": [
    "    for task in sort_tasks():\n",
    "        start_n = current_time.strftime(\"%I:%M %p\")\n",
    "        end_time = current_time + dt.timedelta(minutes=int(task[\"duration\"]))\n",
    "        end_n = end_time.strftime(\"%I:%M %p\")\n",
    "        print(f\"{start_n} - {end_n}: {task['name']} (Priority {task['priority']})\")\n",
    "        current_time = end_time"
   ]
  },
  {
   "cell_type": "code",
   "execution_count": null,
   "id": "ad0452f5-76a5-4d98-8ebf-8e8155edaee4",
   "metadata": {},
   "outputs": [],
   "source": [
    "for task in sorted_tasks:\n",
    "    print(task)"
   ]
  }
 ],
 "metadata": {
  "kernelspec": {
   "display_name": "Python [conda env:base] *",
   "language": "python",
   "name": "conda-base-py"
  },
  "language_info": {
   "codemirror_mode": {
    "name": "ipython",
    "version": 3
   },
   "file_extension": ".py",
   "mimetype": "text/x-python",
   "name": "python",
   "nbconvert_exporter": "python",
   "pygments_lexer": "ipython3",
   "version": "3.13.1"
  }
 },
 "nbformat": 4,
 "nbformat_minor": 5
}
