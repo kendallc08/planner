{
 "cells": [
  {
   "cell_type": "code",
   "execution_count": null,
   "id": "939b40c8-21e1-40a5-bf8d-cde1b0df5c56",
   "metadata": {},
   "outputs": [],
   "source": [
    "import datetime as dt"
   ]
  },
  {
   "cell_type": "code",
   "execution_count": null,
   "id": "4cd4a819-971f-4541-b1be-7b0a2becd853",
   "metadata": {},
   "outputs": [],
   "source": []
  },
  {
   "cell_type": "code",
   "execution_count": null,
   "id": "f54dba8e-202c-4f15-93ee-6e606c9cd9b9",
   "metadata": {},
   "outputs": [],
   "source": []
  },
  {
   "cell_type": "code",
   "execution_count": 9,
   "id": "81d08559-c6a1-40cb-a9ea-242f091b8a26",
   "metadata": {},
   "outputs": [
    {
     "name": "stdout",
     "output_type": "stream",
     "text": [
      "[{'name': 'python', 'priority': '50', 'duration': '50'}]\n"
     ]
    }
   ],
   "source": [
    "\n",
    "\n",
    "def add_task():\n",
    "    name = input(\"Task name: \")\n",
    "    priority = input(\"Priority (1 = high): \")\n",
    "    duration = input(\"Duration (minutes): \")\n",
    "    tasks.append({\"name\": name, \"priority\": priority, \"duration\": duration})\n",
    "print(tasks)\n",
    "\n",
    "def sort_tasks():\n",
    "    return sorted(tasks, key=lambda x: x[\"priority\"])\n",
    "\n",
    "\n",
    "def create_schedule():\n",
    "    print(\"\\nCreate Your Schedule\")\n",
    "    choice = input(\"Start now or enter a custom time? (now/custom): \").strip().lower()\n",
    "\n",
    "    if choice == \"custom\":\n",
    "        try:\n",
    "            time_str = input(\"Enter start time (HH:MM AM/PM): \")\n",
    "            now = dt.datetime.strptime(time_str, \"%I:%M %p\")\n",
    "            today = dt.datetime.today()\n",
    "            current_time = now.replace(year=today.year, month=today.month, day=today.day)\n",
    "        except ValueError:\n",
    "            print(\"Invalid time format. Starting from current time.\")\n",
    "            current_time = dt.datetime.now()\n",
    "    else:\n",
    "        current_time = dt.datetime.now()\n",
    "\n",
    "    for task in sort_tasks():\n",
    "        start_str = current_time.strftime(\"%I:%M %p\")\n",
    "        end_time = current_time + dt.timedelta(minutes=int(task[\"duration\"]))\n",
    "        end_str = end_time.strftime(\"%I:%M %p\")\n",
    "        print(f\"{start_str} - {end_str}: {task['name']} (Priority {task['priority']})\")\n",
    "        current_time = end_time\n",
    "\n",
    "def run():\n",
    "    while True:\n",
    "        print(\"\\n1. Add Task  2. View Schedule \")\n",
    "        choice = input(\"Choose 1 or 2\")\n",
    "    \n",
    "        if choice == \"1\":\n",
    "            add_task()\n",
    "        elif choice == \"2\":\n",
    "            create_schedule()\n",
    "        else:\n",
    "            print(\"Try again.\")"
   ]
  },
  {
   "cell_type": "code",
   "execution_count": null,
   "id": "a723a35f-2130-4085-bc16-c1e1149c92e5",
   "metadata": {},
   "outputs": [
    {
     "name": "stdout",
     "output_type": "stream",
     "text": [
      "\n",
      "1. Add Task  2. View Schedule \n"
     ]
    }
   ],
   "source": [
    "tasks = []\n",
    "run()\n"
   ]
  },
  {
   "cell_type": "code",
   "execution_count": null,
   "id": "03516a7c-5093-4d57-bb19-89b815c0da76",
   "metadata": {},
   "outputs": [],
   "source": []
  }
 ],
 "metadata": {
  "kernelspec": {
   "display_name": "Python [conda env:base] *",
   "language": "python",
   "name": "conda-base-py"
  },
  "language_info": {
   "codemirror_mode": {
    "name": "ipython",
    "version": 3
   },
   "file_extension": ".py",
   "mimetype": "text/x-python",
   "name": "python",
   "nbconvert_exporter": "python",
   "pygments_lexer": "ipython3",
   "version": "3.13.1"
  }
 },
 "nbformat": 4,
 "nbformat_minor": 5
}
